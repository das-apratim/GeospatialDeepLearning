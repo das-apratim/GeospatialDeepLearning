{
  "cells": [
    {
      "cell_type": "markdown",
      "metadata": {
        "id": "view-in-github",
        "colab_type": "text"
      },
      "source": [
        "<a href=\"https://colab.research.google.com/github/das-apratim/GeospatialDeepLearning/blob/main/Ep1_Introduction_To_GeospatialMachineLearning.ipynb\" target=\"_parent\"><img src=\"https://colab.research.google.com/assets/colab-badge.svg\" alt=\"Open In Colab\"/></a>"
      ]
    },
    {
      "cell_type": "markdown",
      "source": [
        "# Introduction to Geospatial Machine Learning\n",
        "# Episode 1:  Master Class Sample Code\n",
        "\n",
        "# This notebook will demonstrate basic concepts that we'll explore in depth throughout the course.\n",
        "\n",
        "## Install necessary packages"
      ],
      "metadata": {
        "id": "tOD08p9t3EC-"
      }
    },
    {
      "cell_type": "code",
      "source": [
        "!pip install geopandas matplotlib numpy scikit-learn rasterio earthpy folium"
      ],
      "metadata": {
        "id": "nvESRlfF3HpU"
      },
      "execution_count": null,
      "outputs": []
    },
    {
      "cell_type": "code",
      "source": [
        "# Import libraries\n",
        "import numpy as np\n",
        "import matplotlib.pyplot as plt\n",
        "import pandas as pd\n",
        "import geopandas as gpd\n",
        "from sklearn.cluster import KMeans\n",
        "from sklearn.preprocessing import StandardScaler\n",
        "import folium\n",
        "import os\n",
        "import warnings\n",
        "warnings.filterwarnings('ignore')"
      ],
      "metadata": {
        "id": "06JbfHdh3TPX"
      },
      "execution_count": null,
      "outputs": []
    },
    {
      "cell_type": "markdown",
      "source": [
        "# Download some sample data from Natural Earth"
      ],
      "metadata": {
        "id": "vkhbvWlA5B4X"
      }
    },
    {
      "cell_type": "code",
      "source": [
        "!wget https://naciscdn.org/naturalearth/110m/cultural/110m_cultural.zip\n",
        "!wget https://www.opendem.info/downloads/srtm_germany_dsm.zip\n",
        "!unzip -o 110m_cultural.zip -d naturalearth_data\n",
        "!unzip -o srtm_germany_dsm.zip -d naturalearth_data\n",
        "!rm /content/110m_cultural.zip\n",
        "!rm /content/srtm_germany_dsm.zip"
      ],
      "metadata": {
        "id": "0xZwT59J5F56"
      },
      "execution_count": null,
      "outputs": []
    },
    {
      "cell_type": "markdown",
      "source": [
        "# 1. Load and visualize some downloaded geospatial data\n",
        "# For this example, we'll use natural earth data which we downloaded just now"
      ],
      "metadata": {
        "id": "w74cOX573l7u"
      }
    },
    {
      "cell_type": "code",
      "source": [
        "# Load the data\n",
        "print(\"\\n1. Loading and visualizing geospatial vector data:\")\n",
        "world = gpd.read_file('/content/naturalearth_data/ne_110m_admin_0_countries.shp')\n",
        "cities = gpd.read_file('/content/naturalearth_data/ne_110m_populated_places.shp')"
      ],
      "metadata": {
        "id": "lclS5r253mkF"
      },
      "execution_count": null,
      "outputs": []
    },
    {
      "cell_type": "markdown",
      "source": [
        "## Plot a simple map\n"
      ],
      "metadata": {
        "id": "E_pIKwnL3vAd"
      }
    },
    {
      "cell_type": "code",
      "source": [
        "fig, ax = plt.subplots(figsize=(12, 8))\n",
        "world.plot(ax=ax, color='lightgray', edgecolor='black')\n",
        "cities.plot(ax=ax, color='red', markersize=5)\n",
        "ax.set_title('World Map with Major Cities')\n",
        "plt.show()"
      ],
      "metadata": {
        "id": "rI9elo6v3uGY"
      },
      "execution_count": null,
      "outputs": []
    },
    {
      "cell_type": "markdown",
      "source": [
        "# 2. Simple Spatial Analysis Example"
      ],
      "metadata": {
        "id": "TtcjvOPf6rEc"
      }
    },
    {
      "cell_type": "code",
      "source": [
        "name_col = 'NAME' if 'NAME' in world.columns else 'ADMIN' if 'ADMIN' in world.columns else 'name'\n",
        "pop_col = 'POP_EST' if 'POP_EST' in world.columns else 'pop_est'\n",
        "gdp_col = 'GDP_MD' if 'GDP_MD' in world.columns else 'gdp_md'\n",
        "print(f\"Using columns: {name_col} (name), {pop_col} (population), {gdp_col} (GDP)\")\n"
      ],
      "metadata": {
        "id": "dAvy0c906-NJ"
      },
      "execution_count": null,
      "outputs": []
    },
    {
      "cell_type": "code",
      "source": [
        "# 2. Simple Spatial Analysis Example\n",
        "print(\"\\n2. Simple spatial analysis with GeoPandas: \\n\")\n",
        "# Count cities per country\n",
        "print(\"Counting cities per country... \\n\")\n",
        "cities_with_country = gpd.sjoin(cities, world, how=\"inner\", predicate='within')\n",
        "\n",
        "# Dynamically use the appropriate column name\n",
        "country_col = name_col + '_right' if name_col + '_right' in cities_with_country.columns else name_col\n",
        "\n",
        "cities_per_country = cities_with_country.groupby(country_col).size().reset_index(name='city_count')\n",
        "cities_per_country = cities_per_country.sort_values('city_count', ascending=False).head(10)\n",
        "print(\"Top 10 countries by city count in our dataset: \\n\")\n",
        "print(cities_per_country.to_string(index=False))"
      ],
      "metadata": {
        "id": "HnrNYL956gXy"
      },
      "execution_count": null,
      "outputs": []
    },
    {
      "cell_type": "markdown",
      "source": [
        "# 3. Introduce Machine Learning on Geospatial Data"
      ],
      "metadata": {
        "id": "yB9FN9Oy9ajt"
      }
    },
    {
      "cell_type": "code",
      "source": [
        "world['cluster']"
      ],
      "metadata": {
        "id": "2md-Fv_D9nmV"
      },
      "execution_count": null,
      "outputs": []
    },
    {
      "cell_type": "code",
      "source": [
        "# Extract some features from our world dataset\n",
        "features = world[[pop_col, gdp_col]].copy()\n",
        "\n",
        "# Add population density as a derived feature (calculate area if not available)\n",
        "world['AREA_SQKM'] = world.geometry.area / 10**6  # Approximation of area in sq km\n",
        "features['pop_density'] = world[pop_col] / world['AREA_SQKM']\n",
        "\n",
        "# Scale the features\n",
        "scaler = StandardScaler()\n",
        "features_scaled = scaler.fit_transform(features.fillna(0))\n",
        "\n",
        "# Apply KMeans clustering\n",
        "kmeans = KMeans(n_clusters=5, random_state=42)\n",
        "world['cluster'] = kmeans.fit_predict(features_scaled)"
      ],
      "metadata": {
        "id": "M50Wffp76u7C"
      },
      "execution_count": null,
      "outputs": []
    },
    {
      "cell_type": "code",
      "source": [
        "# Visualize the clusters\n",
        "fig, ax = plt.subplots(figsize=(12, 8))\n",
        "world.plot(column='cluster', ax=ax, legend=True,\n",
        "           legend_kwds={'label': \"Country Clusters by Population and GDP\"},\n",
        "           cmap='viridis')\n",
        "ax.set_title('K-Means Clustering of Countries')\n",
        "plt.show()"
      ],
      "metadata": {
        "id": "vwMLuEn49kwM"
      },
      "execution_count": null,
      "outputs": []
    },
    {
      "cell_type": "markdown",
      "source": [
        "# 4. Create an interactive map"
      ],
      "metadata": {
        "id": "ECV2vJML_Uab"
      }
    },
    {
      "cell_type": "code",
      "source": [
        "print(\"\\n4. Creating an interactive map with Folium:\")\n",
        "# Center the map on the world\n",
        "m = folium.Map(location=[0, 0], zoom_start=2, tiles='CartoDB positron')\n",
        "\n",
        "# Need to convert to WGS84 for Folium\n",
        "world_wgs84 = world.to_crs(epsg=4326)\n",
        "\n",
        "# Create a simplified GeoJSON for folium (for performance)\n",
        "world_wgs84['geometry'] = world_wgs84.geometry.simplify(tolerance=0.01)\n",
        "\n",
        "# Add the clustered countries to the map\n",
        "folium.GeoJson(\n",
        "    world_wgs84,\n",
        "    name='Countries by Cluster',\n",
        "    style_function=lambda feature: {\n",
        "        'fillColor': ['#440154', '#3b528b', '#21918c', '#5ec962', '#fde725'][feature['properties']['cluster']],\n",
        "        'color': 'black',\n",
        "        'weight': 0.5,\n",
        "        'fillOpacity': 0.7,\n",
        "    },\n",
        "    tooltip=folium.GeoJsonTooltip(\n",
        "        fields=[name_col, pop_col, gdp_col, 'cluster'],\n",
        "        aliases=['Country:', 'Population:', 'GDP (millions USD):', 'Cluster:'],\n",
        "        localize=True\n",
        "    )\n",
        ").add_to(m)\n",
        "\n",
        "# Save the map\n",
        "m.save('interactive_world_clusters.html')\n",
        "print(\"Interactive map saved as 'interactive_world_clusters.html'\")"
      ],
      "metadata": {
        "id": "JNv-n_pt-l0j"
      },
      "execution_count": null,
      "outputs": []
    },
    {
      "cell_type": "markdown",
      "source": [
        "# 5. Demonstrate a simple prediction task"
      ],
      "metadata": {
        "id": "pHbAGCfc_uFt"
      }
    },
    {
      "cell_type": "markdown",
      "source": [
        "## Prepare and Split The Data\n",
        "\n",
        "###predict GDP based on population and area"
      ],
      "metadata": {
        "id": "lU5jY7JZAC4_"
      }
    },
    {
      "cell_type": "code",
      "source": [
        "X = world[[pop_col, 'AREA_SQKM']].fillna(0)\n",
        "y = world[gdp_col].fillna(0)\n",
        "from sklearn.model_selection import train_test_split\n",
        "X_train, X_test, y_train, y_test = train_test_split(X, y, test_size=0.3, random_state=42)"
      ],
      "metadata": {
        "id": "LAk2-Jsg_aep"
      },
      "execution_count": null,
      "outputs": []
    },
    {
      "cell_type": "markdown",
      "source": [
        "## Train a simple model"
      ],
      "metadata": {
        "id": "Hlxwk3bBAVWe"
      }
    },
    {
      "cell_type": "code",
      "source": [
        "from sklearn.ensemble import RandomForestRegressor\n",
        "from sklearn.metrics import mean_absolute_percentage_error\n",
        "\n",
        "model = RandomForestRegressor(n_estimators=100, random_state=42)\n",
        "model.fit(X_train, y_train)"
      ],
      "metadata": {
        "id": "lGy-vLQU_3R5"
      },
      "execution_count": null,
      "outputs": []
    },
    {
      "cell_type": "markdown",
      "source": [
        "## Evaluate\n"
      ],
      "metadata": {
        "id": "06FaraMnAQxi"
      }
    },
    {
      "cell_type": "code",
      "source": [
        "y_pred = model.predict(X_test)\n",
        "mape = mean_absolute_percentage_error(y_test, y_pred)\n",
        "print(f\"Model Mean Absolute Percentage Error: {mape:.2f}\")"
      ],
      "metadata": {
        "id": "yLV2DNab_9DV"
      },
      "execution_count": null,
      "outputs": []
    },
    {
      "cell_type": "markdown",
      "source": [
        "## Feature importance"
      ],
      "metadata": {
        "id": "Rrg3v1lxALIm"
      }
    },
    {
      "cell_type": "code",
      "source": [
        "importance = pd.DataFrame({\n",
        "    'Feature': ['Population', 'Area (sq km)'],\n",
        "    'Importance': model.feature_importances_\n",
        "}).sort_values('Importance', ascending=False)\n",
        "\n",
        "plt.figure(figsize=(10, 6))\n",
        "plt.bar(importance['Feature'], importance['Importance'])\n",
        "plt.title('Feature Importance for GDP Prediction')\n",
        "plt.ylabel('Importance')\n",
        "plt.tight_layout()\n",
        "plt.show()\n"
      ],
      "metadata": {
        "id": "TQmYAZD0AKpT"
      },
      "execution_count": null,
      "outputs": []
    },
    {
      "cell_type": "markdown",
      "source": [
        "# 6. Add a simple demonstration of raster data"
      ],
      "metadata": {
        "id": "oBXap0j_A19g"
      }
    },
    {
      "cell_type": "code",
      "source": [
        "try:\n",
        "    import rasterio\n",
        "    from rasterio.plot import show\n",
        "\n",
        "    # Open the raster file\n",
        "    with rasterio.open('/content/naturalearth_data/srtm_germany_dsm.tif') as src:\n",
        "        dem = src.read(1)  # Read the first band\n",
        "\n",
        "        # Plot the DEM\n",
        "        fig, ax = plt.subplots(figsize=(10, 8))\n",
        "        show(src, ax=ax, cmap='terrain')\n",
        "        ax.set_title('Digital Elevation Model of Germany (Sample)')\n",
        "        plt.show()\n",
        "\n",
        "        # Simple raster analysis\n",
        "        print(f\"\\nRaster Statistics:\")\n",
        "        print(f\"Min elevation: {dem.min()}\")\n",
        "        print(f\"Max elevation: {dem.max()}\")\n",
        "        print(f\"Mean elevation: {dem.mean():.2f}\")\n",
        "except:\n",
        "    print(\"\\nSkipping raster example (download may have failed)\")\n",
        "\n",
        "print(\"\\nThis introduction demonstrates how we can combine GIS capabilities with machine learning techniques.\")\n",
        "print(\"Throughout this master class, we'll explore more advanced methods and real-world applications.\")\n",
        "print(\"Get ready to dive deeper into the exciting world of Geospatial Machine Learning!\")"
      ],
      "metadata": {
        "id": "WWPnbzuMAL5G"
      },
      "execution_count": null,
      "outputs": []
    },
    {
      "cell_type": "code",
      "source": [],
      "metadata": {
        "id": "78036KI-A2nG"
      },
      "execution_count": null,
      "outputs": []
    }
  ],
  "metadata": {
    "colab": {
      "name": "Welcome to Colaboratory",
      "provenance": [],
      "include_colab_link": true
    },
    "kernelspec": {
      "display_name": "Python 3",
      "name": "python3"
    }
  },
  "nbformat": 4,
  "nbformat_minor": 0
}