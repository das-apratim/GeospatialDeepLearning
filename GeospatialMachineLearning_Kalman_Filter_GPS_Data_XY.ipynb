{
  "nbformat": 4,
  "nbformat_minor": 0,
  "metadata": {
    "colab": {
      "provenance": [],
      "include_colab_link": true
    },
    "kernelspec": {
      "name": "python3",
      "display_name": "Python 3"
    },
    "language_info": {
      "name": "python"
    }
  },
  "cells": [
    {
      "cell_type": "markdown",
      "metadata": {
        "id": "view-in-github",
        "colab_type": "text"
      },
      "source": [
        "<a href=\"https://colab.research.google.com/github/das-apratim/GeospatialDeepLearning/blob/main/GeospatialMachineLearning_Kalman_Filter_GPS_Data_XY.ipynb\" target=\"_parent\"><img src=\"https://colab.research.google.com/assets/colab-badge.svg\" alt=\"Open In Colab\"/></a>"
      ]
    },
    {
      "cell_type": "markdown",
      "source": [
        "# Geospatial Machine Learning Series - Kalman Filter\n",
        "## Implimentation of Kalmal Filter to remove noise from GPS Data"
      ],
      "metadata": {
        "id": "dYqz4KV2sXWc"
      }
    },
    {
      "cell_type": "markdown",
      "source": [
        "### Install and Import Dependencies"
      ],
      "metadata": {
        "id": "H5nPaXlbtOYj"
      }
    },
    {
      "cell_type": "code",
      "execution_count": null,
      "metadata": {
        "id": "Lnra9dtjsUZL"
      },
      "outputs": [],
      "source": [
        "!pip install pykalman\n",
        "import numpy as np\n",
        "import matplotlib.pyplot as plt\n",
        "from pykalman import KalmanFilter\n",
        "import pandas as pd"
      ]
    },
    {
      "cell_type": "markdown",
      "source": [
        "### Load Some Sample GPS Data..\n",
        "#### Download Data from https://www.openstreetmap.org/traces/\n",
        "#### Create Dataframe with the GPX Data"
      ],
      "metadata": {
        "id": "ItjsgoOttVpn"
      }
    },
    {
      "cell_type": "code",
      "source": [
        "data = pd.read_csv('/content/track_points_sample.csv')\n",
        "dev = np.std(data['total_noise_meters'])\n",
        "print(f\"Standard Deviation {dev}\")\n",
        "data.head()\n"
      ],
      "metadata": {
        "id": "ERzIGgsUts1u"
      },
      "execution_count": null,
      "outputs": []
    },
    {
      "cell_type": "code",
      "source": [
        "import plotly.express as px\n",
        "\n",
        "\n",
        "center_lat = data['latitude'].mean()\n",
        "center_lon = data['longitude'].mean()\n",
        "\n",
        "\n",
        "fig = px.scatter_mapbox(data,\n",
        "                        lat=\"latitude\",  ## Y-coord\n",
        "                        lon=\"longitude\", ## X-coord\n",
        "                        zoom=10,\n",
        "                        height=600,\n",
        "                        center=dict(lat=center_lat, lon=center_lon),\n",
        "                        color_discrete_sequence=[\"red\"],\n",
        "                        size_max = [0.1] * len(data))\n",
        " # Set marker size to 10 for all points\n",
        "\n",
        "\n",
        "fig.update_layout(mapbox_style=\"open-street-map\")\n",
        "fig.update_layout(margin={\"r\":0,\"t\":0,\"l\":0,\"b\":0})\n",
        "fig.show()\n",
        "\n"
      ],
      "metadata": {
        "id": "Lq7VRMdbt8X9"
      },
      "execution_count": null,
      "outputs": []
    },
    {
      "cell_type": "markdown",
      "source": [
        "## Init Kalman Filter parameters\n",
        "### Setup Initial Values"
      ],
      "metadata": {
        "id": "rveftwnA5voE"
      }
    },
    {
      "cell_type": "code",
      "source": [
        "# Constant Time\n",
        "dt = 1.0\n",
        "\n",
        "# State transition matrix\n",
        "transition_matrix = np.array([\n",
        "    [ dt, 0],\n",
        "    [0, dt],\n",
        "])\n",
        "\n",
        "# Observation matrix - we only observe position, not velocity\n",
        "observation_matrix = np.array([\n",
        "    [1, 0],\n",
        "    [0, 1]\n",
        "])\n",
        "\n",
        "# Initial state covariance - our uncertainty about the initial state\n",
        "initial_state_covariance = np.eye(2) * 10\n",
        "\n",
        "# Process noise - how much randomness in the process (affects state evolution)\n",
        "# Smaller process noise = smoother but less responsive tracking\n",
        "process_noise = np.eye(2)\n",
        "process_noise[0, 0] = 1.0  # position noise x\n",
        "process_noise[1, 1] = 1.0  # position noise y\n",
        "\n",
        "\n",
        "# Observation noise - how noisy our measurements are\n",
        "# Higher = less trust in measurements\n",
        "observation_noise = np.eye(2) * 3 ## Hyper Parameter\n",
        "\n",
        "# Initial state - our best guess of starting position and velocity\n",
        "initial_state_mean = np.array([data['longitude'][0], data['latitude'][0]])"
      ],
      "metadata": {
        "id": "IYDCv-PAuPlW"
      },
      "execution_count": null,
      "outputs": []
    },
    {
      "cell_type": "markdown",
      "source": [
        "### Kalman filtering\n",
        "\n",
        "#### Setting Up the filter"
      ],
      "metadata": {
        "id": "J7CYdfq-7YLg"
      }
    },
    {
      "cell_type": "code",
      "source": [
        "# Create the Kalman Filter\n",
        "kf = KalmanFilter(\n",
        "    transition_matrices=transition_matrix,\n",
        "    observation_matrices=observation_matrix,\n",
        "    initial_state_mean=initial_state_mean,\n",
        "    initial_state_covariance=initial_state_covariance,\n",
        "    observation_covariance=observation_noise,\n",
        "    transition_covariance=process_noise\n",
        ")"
      ],
      "metadata": {
        "id": "Seic2vKF7Unp"
      },
      "execution_count": null,
      "outputs": []
    },
    {
      "cell_type": "markdown",
      "source": [
        "#### Filter the Noisy Data"
      ],
      "metadata": {
        "id": "wGAW0OKYXkM7"
      }
    },
    {
      "cell_type": "code",
      "source": [
        "# Transform the measurements into the format expected by pykalman\n",
        "# We need an (n_steps, n_dim_obs) array\n",
        "measurements = np.column_stack([data['longitude'], data['latitude']])\n",
        "\n",
        "# Run the Kalman Filter\n",
        "filtered_state_means, filtered_state_covariances = kf.filter(measurements)"
      ],
      "metadata": {
        "id": "qWMCQ9i_7arD"
      },
      "execution_count": null,
      "outputs": []
    },
    {
      "cell_type": "markdown",
      "source": [
        "#### Extract the filtered positions (the first two columns of the state)\n"
      ],
      "metadata": {
        "id": "tl67wI9KXoau"
      }
    },
    {
      "cell_type": "code",
      "source": [
        "filtered_x = filtered_state_means[:, 0]\n",
        "filtered_y = filtered_state_means[:, 1]\n",
        "\n",
        "# Add the filtered positions to our dataframe\n",
        "data['filtered_x'] = filtered_x\n",
        "data['filtered_y'] = filtered_y\n",
        "\n",
        "# Calculate position errors\n",
        "\n",
        "# Calculate position errors\n",
        "data['measured_error'] = np.sqrt((data['longitude'] - data['true_longitude'])**2 +\n",
        "                                (data['latitude'] - data['true_latitude'])**2)\n",
        "data['filtered_error'] = np.sqrt((data['filtered_x'] - data['true_longitude'])**2 +\n",
        "                               (data['filtered_y'] - data['true_latitude'])**2)"
      ],
      "metadata": {
        "id": "LgCH3JIA8LCe"
      },
      "execution_count": null,
      "outputs": []
    },
    {
      "cell_type": "markdown",
      "source": [
        "#### Plot the Data and visualise"
      ],
      "metadata": {
        "id": "L3IhAo8MXqSS"
      }
    },
    {
      "cell_type": "code",
      "source": [
        "# Visualization\n",
        "plt.figure(figsize=(15, 10))\n",
        "\n",
        "# Plot the positions\n",
        "plt.subplot(2, 2, 1)\n",
        "plt.plot(data['true_longitude'], data['true_latitude'], 'g-', label='True Path')\n",
        "plt.plot(data['longitude'], data['latitude'], 'r.', alpha=0.5, label='GPS Measurements')\n",
        "plt.plot(filtered_x, filtered_y, 'b-', label='Kalman Filter')\n",
        "plt.xlabel('X Position (m)')\n",
        "plt.ylabel('Y Position (m)')\n",
        "plt.title('Vehicle Path: True vs Measured vs Filtered')\n",
        "plt.legend()\n",
        "plt.grid(True)\n",
        "\n",
        "# Plot the X position over time\n",
        "plt.subplot(2, 2, 2)\n",
        "plt.plot(data['timestamp'], data['true_longitude'], 'g-', label='True X')\n",
        "plt.plot(data['timestamp'], data['longitude'], 'r.', alpha=0.5, label='Measured X')\n",
        "plt.plot(data['timestamp'], filtered_x, 'b-', label='Filtered X')\n",
        "plt.xlabel('Time Step')\n",
        "plt.ylabel('X Position (m)')\n",
        "plt.title('X Position over Time')\n",
        "plt.legend()\n",
        "plt.grid(True)\n",
        "\n",
        "# Plot the Y position over time\n",
        "plt.subplot(2, 2, 3)\n",
        "plt.plot(data['timestamp'], data['true_latitude'], 'g-', label='True Y')\n",
        "plt.plot(data['timestamp'], data['latitude'], 'r.', alpha=0.5, label='Measured Y')\n",
        "plt.plot(data['timestamp'], filtered_y, 'b-', label='Filtered Y')\n",
        "plt.xlabel('Time Step')\n",
        "plt.ylabel('Y Position (m)')\n",
        "plt.title('Y Position over Time')\n",
        "plt.legend()\n",
        "plt.grid(True)\n",
        "\n",
        "# Plot the error comparison\n",
        "plt.subplot(2, 2, 4)\n",
        "plt.plot(data['timestamp'], data['measured_error'], 'r-', alpha=0.7, label='GPS Error')\n",
        "plt.plot(data['timestamp'], data['filtered_error'], 'b-', alpha=0.7, label='Kalman Filter Error')\n",
        "plt.xlabel('Time Step')\n",
        "plt.ylabel('Error (m)')\n",
        "plt.title('Position Error Comparison')\n",
        "plt.legend()\n",
        "plt.grid(True)\n",
        "\n",
        "# Print average errors\n",
        "avg_measured_error = data['measured_error'].mean()\n",
        "avg_filtered_error = data['filtered_error'].mean()\n",
        "error_reduction = (1 - avg_filtered_error/avg_measured_error) * 100\n",
        "\n",
        "print(f\"Average GPS measurement error: {avg_measured_error:.2f} meters\")\n",
        "print(f\"Average Kalman filter error: {avg_filtered_error:.2f} meters\")\n",
        "print(f\"Error reduction: {error_reduction:.2f}%\")\n",
        "\n",
        "plt.tight_layout()\n",
        "plt.show()"
      ],
      "metadata": {
        "id": "SES3Xkgi8Sf3"
      },
      "execution_count": null,
      "outputs": []
    },
    {
      "cell_type": "markdown",
      "source": [
        "#### Preview the data on Map"
      ],
      "metadata": {
        "id": "f9JVW9RAXwCP"
      }
    },
    {
      "cell_type": "code",
      "source": [
        "center_lat = data['filtered_y'].mean()\n",
        "center_lon = data['filtered_x'].mean()\n",
        "\n",
        "\n",
        "fig = px.scatter_mapbox(data,\n",
        "                        lat=\"filtered_y\",  ## Y-coord\n",
        "                        lon=\"filtered_x\", ## X-coord\n",
        "                        zoom=15,\n",
        "                        height=600,\n",
        "                        center=dict(lat=center_lat, lon=center_lon),\n",
        "                        color_discrete_sequence=[\"red\"],\n",
        "                        size_max = [0.1] * len(data))\n",
        " # Set marker size to 10 for all points\n",
        "\n",
        "\n",
        "fig.update_layout(mapbox_style=\"open-street-map\")\n",
        "fig.update_layout(margin={\"r\":0,\"t\":0,\"l\":0,\"b\":0})\n",
        "fig.show()"
      ],
      "metadata": {
        "id": "nSg2NovB8v9U"
      },
      "execution_count": null,
      "outputs": []
    },
    {
      "cell_type": "markdown",
      "source": [
        "#### Run Comparision Analysis between filtered and Raw"
      ],
      "metadata": {
        "id": "QkHfJqtCXzem"
      }
    },
    {
      "cell_type": "code",
      "source": [
        "# prompt: overlay two dataset  on the map data['filtered_y'], data['filtered_y'] and data['latitude'], data['longitude']\n",
        "\n",
        "import plotly.graph_objects as go # import graph_objects\n",
        "\n",
        "center_lat = data['latitude'].mean()\n",
        "center_lon = data['longitude'].mean()\n",
        "\n",
        "fig = go.Figure(go.Scattermapbox( # Use go.Figure and go.Scattermapbox\n",
        "                        lat=data['latitude'],\n",
        "                        lon=data['longitude'],\n",
        "                        mode='markers',\n",
        "                        marker=go.scattermapbox.Marker(\n",
        "                            size=13,\n",
        "                            color='red'\n",
        "                        ),\n",
        "                        name=\"Original\"\n",
        "                    ))\n",
        "\n",
        "\n",
        "fig.add_trace(go.Scattermapbox( # Use go.Scattermapbox for the second trace\n",
        "                        lat=data['filtered_y'],  ## Y-coord\n",
        "                        lon=data['filtered_x'], ## X-coord\n",
        "                        mode='markers',\n",
        "                        name=\"flattend\",\n",
        "                        marker=go.scattermapbox.Marker(\n",
        "                            size=13,\n",
        "                            color='blue',\n",
        "                            opacity=0.5,\n",
        "                        )\n",
        "                    ))\n",
        "\n",
        "\n",
        "fig.update_layout(\n",
        "    mapbox_style=\"open-street-map\",\n",
        "    margin={\"r\":0,\"t\":0,\"l\":0,\"b\":0},\n",
        "    mapbox={'center': {'lat': center_lat, 'lon': center_lon}, 'zoom': 13}, # Set center and zoom in update_layout\n",
        "    height=600\n",
        ")\n",
        "fig.show()"
      ],
      "metadata": {
        "id": "5gFcjgA0Lv9-"
      },
      "execution_count": null,
      "outputs": []
    }
  ]
}